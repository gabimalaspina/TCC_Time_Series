{
  "nbformat": 4,
  "nbformat_minor": 0,
  "metadata": {
    "colab": {
      "provenance": [],
      "toc_visible": true,
      "authorship_tag": "ABX9TyMFr1n4+4kZ7n+L9fewPhar",
      "include_colab_link": true
    },
    "kernelspec": {
      "name": "python3",
      "display_name": "Python 3"
    },
    "language_info": {
      "name": "python"
    }
  },
  "cells": [
    {
      "cell_type": "markdown",
      "metadata": {
        "id": "view-in-github",
        "colab_type": "text"
      },
      "source": [
        "<a href=\"https://colab.research.google.com/github/gabimalaspina/TCC_Time_Series/blob/main/Etapa_01_selecao_portfolio.ipynb\" target=\"_parent\"><img src=\"https://colab.research.google.com/assets/colab-badge.svg\" alt=\"Open In Colab\"/></a>"
      ]
    },
    {
      "cell_type": "markdown",
      "source": [
        "<font size=6> **Etapa 1 - Seleção do portfólio**"
      ],
      "metadata": {
        "id": "KSU7wepJPs2O"
      }
    },
    {
      "cell_type": "code",
      "source": [
        "from google.colab import drive\n",
        "\n",
        "# Monta o Drive\n",
        "drive.mount('/content/drive')"
      ],
      "metadata": {
        "colab": {
          "base_uri": "https://localhost:8080/"
        },
        "id": "yNv3qFr7K8Fc",
        "outputId": "299c5976-891b-4ec6-9dda-56430445fda6"
      },
      "execution_count": 1,
      "outputs": [
        {
          "output_type": "stream",
          "name": "stdout",
          "text": [
            "Mounted at /content/drive\n"
          ]
        }
      ]
    },
    {
      "cell_type": "code",
      "source": [
        "import pandas as pd\n",
        "import numpy as np\n",
        "import matplotlib.pyplot as plt\n",
        "import os"
      ],
      "metadata": {
        "id": "tPoLYcQPDtZB"
      },
      "execution_count": 2,
      "outputs": []
    },
    {
      "cell_type": "markdown",
      "source": [
        "#**Carregamento dos dados**"
      ],
      "metadata": {
        "id": "JJBqd6l9Bl6A"
      }
    },
    {
      "cell_type": "code",
      "source": [
        "caminho_drive = '/content/drive/My Drive/Colab Notebooks/TCC/resultados'"
      ],
      "metadata": {
        "id": "-xTYycaQ6hdG"
      },
      "execution_count": 3,
      "outputs": []
    },
    {
      "cell_type": "code",
      "source": [
        "dados_b3 = pd.read_csv(f'{caminho_drive}/dados_b3_revisado')"
      ],
      "metadata": {
        "id": "GvsUQLwj_WLs"
      },
      "execution_count": 7,
      "outputs": []
    },
    {
      "cell_type": "code",
      "source": [
        "dados_b3"
      ],
      "metadata": {
        "colab": {
          "base_uri": "https://localhost:8080/",
          "height": 423
        },
        "id": "t1IZBIr1AX3e",
        "outputId": "10de3705-ee10-4fce-d521-bb1ff33b457f"
      },
      "execution_count": 8,
      "outputs": [
        {
          "output_type": "execute_result",
          "data": {
            "text/plain": [
              "   Código            Empresa   Tipo  Qtde. Teórica  Part. (%)  \\\n",
              "0   RRRP3    3R Petroleum ON  ON NM      196144421      0.350   \n",
              "1   ALSO3  Aliansce Sonae ON  ON NM      330109863      0.302   \n",
              "2   ALPA4      Alpargatas PN  PN N1      202765994      0.103   \n",
              "3   ABEV3           Ambev ON     ON     4386652506      3.207   \n",
              "4   ARZZ3          Arezzo ON  ON NM       60758326      0.245   \n",
              "..    ...                ...    ...            ...        ...   \n",
              "83  VALE3            Vale ON  ON NM     3394804584     15.837   \n",
              "84  VIIA3             Via ON  ON NM     1576975642      0.164   \n",
              "85  VBBR3           Vibra ON  ON NM     1114442976      0.902   \n",
              "86  WEGE3             Weg ON  ON NM     1318583017      2.816   \n",
              "87  YDUQ3           YDUQS ON  ON NM      296015511      0.109   \n",
              "\n",
              "    Volume Médio (3m)  Capitalização       Receita  Relação P/L   Beta  \n",
              "0           5020000.0   6.690000e+09  1.530000e+09        37.16  0.511  \n",
              "1           3250000.0   9.970000e+09  1.130000e+09        15.42  0.629  \n",
              "2           4850000.0   6.330000e+09  4.180000e+09        31.61  0.405  \n",
              "3          34890000.0   2.114100e+11  7.971000e+10        14.60  0.663  \n",
              "4           1310000.0   8.260000e+09  4.020000e+09        19.07  0.736  \n",
              "..                ...            ...           ...          ...    ...  \n",
              "83         23830000.0   3.792800e+11  2.265100e+11         4.11  0.807  \n",
              "84         79470000.0   2.970000e+09  2.205000e+10       -19.68  1.530  \n",
              "85         10330000.0   1.642000e+10  1.284900e+11         8.19  0.649  \n",
              "86          7060000.0   1.658300e+11  2.926000e+10        39.67  0.564  \n",
              "87          4950000.0   1.950000e+09  3.460000e+09       -42.14  1.190  \n",
              "\n",
              "[88 rows x 10 columns]"
            ],
            "text/html": [
              "\n",
              "  <div id=\"df-48e1dca0-bcd1-499d-ba07-337791ea455f\">\n",
              "    <div class=\"colab-df-container\">\n",
              "      <div>\n",
              "<style scoped>\n",
              "    .dataframe tbody tr th:only-of-type {\n",
              "        vertical-align: middle;\n",
              "    }\n",
              "\n",
              "    .dataframe tbody tr th {\n",
              "        vertical-align: top;\n",
              "    }\n",
              "\n",
              "    .dataframe thead th {\n",
              "        text-align: right;\n",
              "    }\n",
              "</style>\n",
              "<table border=\"1\" class=\"dataframe\">\n",
              "  <thead>\n",
              "    <tr style=\"text-align: right;\">\n",
              "      <th></th>\n",
              "      <th>Código</th>\n",
              "      <th>Empresa</th>\n",
              "      <th>Tipo</th>\n",
              "      <th>Qtde. Teórica</th>\n",
              "      <th>Part. (%)</th>\n",
              "      <th>Volume Médio (3m)</th>\n",
              "      <th>Capitalização</th>\n",
              "      <th>Receita</th>\n",
              "      <th>Relação P/L</th>\n",
              "      <th>Beta</th>\n",
              "    </tr>\n",
              "  </thead>\n",
              "  <tbody>\n",
              "    <tr>\n",
              "      <th>0</th>\n",
              "      <td>RRRP3</td>\n",
              "      <td>3R Petroleum ON</td>\n",
              "      <td>ON NM</td>\n",
              "      <td>196144421</td>\n",
              "      <td>0.350</td>\n",
              "      <td>5020000.0</td>\n",
              "      <td>6.690000e+09</td>\n",
              "      <td>1.530000e+09</td>\n",
              "      <td>37.16</td>\n",
              "      <td>0.511</td>\n",
              "    </tr>\n",
              "    <tr>\n",
              "      <th>1</th>\n",
              "      <td>ALSO3</td>\n",
              "      <td>Aliansce Sonae ON</td>\n",
              "      <td>ON NM</td>\n",
              "      <td>330109863</td>\n",
              "      <td>0.302</td>\n",
              "      <td>3250000.0</td>\n",
              "      <td>9.970000e+09</td>\n",
              "      <td>1.130000e+09</td>\n",
              "      <td>15.42</td>\n",
              "      <td>0.629</td>\n",
              "    </tr>\n",
              "    <tr>\n",
              "      <th>2</th>\n",
              "      <td>ALPA4</td>\n",
              "      <td>Alpargatas PN</td>\n",
              "      <td>PN N1</td>\n",
              "      <td>202765994</td>\n",
              "      <td>0.103</td>\n",
              "      <td>4850000.0</td>\n",
              "      <td>6.330000e+09</td>\n",
              "      <td>4.180000e+09</td>\n",
              "      <td>31.61</td>\n",
              "      <td>0.405</td>\n",
              "    </tr>\n",
              "    <tr>\n",
              "      <th>3</th>\n",
              "      <td>ABEV3</td>\n",
              "      <td>Ambev ON</td>\n",
              "      <td>ON</td>\n",
              "      <td>4386652506</td>\n",
              "      <td>3.207</td>\n",
              "      <td>34890000.0</td>\n",
              "      <td>2.114100e+11</td>\n",
              "      <td>7.971000e+10</td>\n",
              "      <td>14.60</td>\n",
              "      <td>0.663</td>\n",
              "    </tr>\n",
              "    <tr>\n",
              "      <th>4</th>\n",
              "      <td>ARZZ3</td>\n",
              "      <td>Arezzo ON</td>\n",
              "      <td>ON NM</td>\n",
              "      <td>60758326</td>\n",
              "      <td>0.245</td>\n",
              "      <td>1310000.0</td>\n",
              "      <td>8.260000e+09</td>\n",
              "      <td>4.020000e+09</td>\n",
              "      <td>19.07</td>\n",
              "      <td>0.736</td>\n",
              "    </tr>\n",
              "    <tr>\n",
              "      <th>...</th>\n",
              "      <td>...</td>\n",
              "      <td>...</td>\n",
              "      <td>...</td>\n",
              "      <td>...</td>\n",
              "      <td>...</td>\n",
              "      <td>...</td>\n",
              "      <td>...</td>\n",
              "      <td>...</td>\n",
              "      <td>...</td>\n",
              "      <td>...</td>\n",
              "    </tr>\n",
              "    <tr>\n",
              "      <th>83</th>\n",
              "      <td>VALE3</td>\n",
              "      <td>Vale ON</td>\n",
              "      <td>ON NM</td>\n",
              "      <td>3394804584</td>\n",
              "      <td>15.837</td>\n",
              "      <td>23830000.0</td>\n",
              "      <td>3.792800e+11</td>\n",
              "      <td>2.265100e+11</td>\n",
              "      <td>4.11</td>\n",
              "      <td>0.807</td>\n",
              "    </tr>\n",
              "    <tr>\n",
              "      <th>84</th>\n",
              "      <td>VIIA3</td>\n",
              "      <td>Via ON</td>\n",
              "      <td>ON NM</td>\n",
              "      <td>1576975642</td>\n",
              "      <td>0.164</td>\n",
              "      <td>79470000.0</td>\n",
              "      <td>2.970000e+09</td>\n",
              "      <td>2.205000e+10</td>\n",
              "      <td>-19.68</td>\n",
              "      <td>1.530</td>\n",
              "    </tr>\n",
              "    <tr>\n",
              "      <th>85</th>\n",
              "      <td>VBBR3</td>\n",
              "      <td>Vibra ON</td>\n",
              "      <td>ON NM</td>\n",
              "      <td>1114442976</td>\n",
              "      <td>0.902</td>\n",
              "      <td>10330000.0</td>\n",
              "      <td>1.642000e+10</td>\n",
              "      <td>1.284900e+11</td>\n",
              "      <td>8.19</td>\n",
              "      <td>0.649</td>\n",
              "    </tr>\n",
              "    <tr>\n",
              "      <th>86</th>\n",
              "      <td>WEGE3</td>\n",
              "      <td>Weg ON</td>\n",
              "      <td>ON NM</td>\n",
              "      <td>1318583017</td>\n",
              "      <td>2.816</td>\n",
              "      <td>7060000.0</td>\n",
              "      <td>1.658300e+11</td>\n",
              "      <td>2.926000e+10</td>\n",
              "      <td>39.67</td>\n",
              "      <td>0.564</td>\n",
              "    </tr>\n",
              "    <tr>\n",
              "      <th>87</th>\n",
              "      <td>YDUQ3</td>\n",
              "      <td>YDUQS ON</td>\n",
              "      <td>ON NM</td>\n",
              "      <td>296015511</td>\n",
              "      <td>0.109</td>\n",
              "      <td>4950000.0</td>\n",
              "      <td>1.950000e+09</td>\n",
              "      <td>3.460000e+09</td>\n",
              "      <td>-42.14</td>\n",
              "      <td>1.190</td>\n",
              "    </tr>\n",
              "  </tbody>\n",
              "</table>\n",
              "<p>88 rows × 10 columns</p>\n",
              "</div>\n",
              "      <button class=\"colab-df-convert\" onclick=\"convertToInteractive('df-48e1dca0-bcd1-499d-ba07-337791ea455f')\"\n",
              "              title=\"Convert this dataframe to an interactive table.\"\n",
              "              style=\"display:none;\">\n",
              "        \n",
              "  <svg xmlns=\"http://www.w3.org/2000/svg\" height=\"24px\"viewBox=\"0 0 24 24\"\n",
              "       width=\"24px\">\n",
              "    <path d=\"M0 0h24v24H0V0z\" fill=\"none\"/>\n",
              "    <path d=\"M18.56 5.44l.94 2.06.94-2.06 2.06-.94-2.06-.94-.94-2.06-.94 2.06-2.06.94zm-11 1L8.5 8.5l.94-2.06 2.06-.94-2.06-.94L8.5 2.5l-.94 2.06-2.06.94zm10 10l.94 2.06.94-2.06 2.06-.94-2.06-.94-.94-2.06-.94 2.06-2.06.94z\"/><path d=\"M17.41 7.96l-1.37-1.37c-.4-.4-.92-.59-1.43-.59-.52 0-1.04.2-1.43.59L10.3 9.45l-7.72 7.72c-.78.78-.78 2.05 0 2.83L4 21.41c.39.39.9.59 1.41.59.51 0 1.02-.2 1.41-.59l7.78-7.78 2.81-2.81c.8-.78.8-2.07 0-2.86zM5.41 20L4 18.59l7.72-7.72 1.47 1.35L5.41 20z\"/>\n",
              "  </svg>\n",
              "      </button>\n",
              "      \n",
              "  <style>\n",
              "    .colab-df-container {\n",
              "      display:flex;\n",
              "      flex-wrap:wrap;\n",
              "      gap: 12px;\n",
              "    }\n",
              "\n",
              "    .colab-df-convert {\n",
              "      background-color: #E8F0FE;\n",
              "      border: none;\n",
              "      border-radius: 50%;\n",
              "      cursor: pointer;\n",
              "      display: none;\n",
              "      fill: #1967D2;\n",
              "      height: 32px;\n",
              "      padding: 0 0 0 0;\n",
              "      width: 32px;\n",
              "    }\n",
              "\n",
              "    .colab-df-convert:hover {\n",
              "      background-color: #E2EBFA;\n",
              "      box-shadow: 0px 1px 2px rgba(60, 64, 67, 0.3), 0px 1px 3px 1px rgba(60, 64, 67, 0.15);\n",
              "      fill: #174EA6;\n",
              "    }\n",
              "\n",
              "    [theme=dark] .colab-df-convert {\n",
              "      background-color: #3B4455;\n",
              "      fill: #D2E3FC;\n",
              "    }\n",
              "\n",
              "    [theme=dark] .colab-df-convert:hover {\n",
              "      background-color: #434B5C;\n",
              "      box-shadow: 0px 1px 3px 1px rgba(0, 0, 0, 0.15);\n",
              "      filter: drop-shadow(0px 1px 2px rgba(0, 0, 0, 0.3));\n",
              "      fill: #FFFFFF;\n",
              "    }\n",
              "  </style>\n",
              "\n",
              "      <script>\n",
              "        const buttonEl =\n",
              "          document.querySelector('#df-48e1dca0-bcd1-499d-ba07-337791ea455f button.colab-df-convert');\n",
              "        buttonEl.style.display =\n",
              "          google.colab.kernel.accessAllowed ? 'block' : 'none';\n",
              "\n",
              "        async function convertToInteractive(key) {\n",
              "          const element = document.querySelector('#df-48e1dca0-bcd1-499d-ba07-337791ea455f');\n",
              "          const dataTable =\n",
              "            await google.colab.kernel.invokeFunction('convertToInteractive',\n",
              "                                                     [key], {});\n",
              "          if (!dataTable) return;\n",
              "\n",
              "          const docLinkHtml = 'Like what you see? Visit the ' +\n",
              "            '<a target=\"_blank\" href=https://colab.research.google.com/notebooks/data_table.ipynb>data table notebook</a>'\n",
              "            + ' to learn more about interactive tables.';\n",
              "          element.innerHTML = '';\n",
              "          dataTable['output_type'] = 'display_data';\n",
              "          await google.colab.output.renderOutput(dataTable, element);\n",
              "          const docLink = document.createElement('div');\n",
              "          docLink.innerHTML = docLinkHtml;\n",
              "          element.appendChild(docLink);\n",
              "        }\n",
              "      </script>\n",
              "    </div>\n",
              "  </div>\n",
              "  "
            ]
          },
          "metadata": {},
          "execution_count": 8
        }
      ]
    },
    {
      "cell_type": "markdown",
      "source": [
        "#**Cálculo do score**"
      ],
      "metadata": {
        "id": "KAOXhZSEPcQw"
      }
    },
    {
      "cell_type": "code",
      "source": [],
      "metadata": {
        "id": "4jzU6ULQPjjm"
      },
      "execution_count": null,
      "outputs": []
    },
    {
      "cell_type": "markdown",
      "source": [
        "#**Seleção dos ativos**"
      ],
      "metadata": {
        "id": "bopmf3KbPkQe"
      }
    },
    {
      "cell_type": "code",
      "source": [],
      "metadata": {
        "id": "Hq_n5Z8xPoRY"
      },
      "execution_count": null,
      "outputs": []
    }
  ]
}